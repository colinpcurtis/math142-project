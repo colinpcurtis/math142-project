{
 "cells": [
  {
   "cell_type": "code",
   "execution_count": null,
   "id": "1ef2d0f2",
   "metadata": {},
   "outputs": [],
   "source": [
    "using DifferentialEquations, Plots\n",
    "\n",
    "\n",
    "# represents derivatives du, functions u, model parameters p, and time t\n",
    "function love_model(du, u, p, t) \n",
    " A_1, A_2, alpha, rho, K = p\n",
    " du[1] = - alpha * u[1] + rho * A_2 + K * u[2] * exp(-u[2])\n",
    " du[2] = - alpha * u[2] + rho * A_1 + K * u[1] * exp(-u[1])\n",
    "end"
   ]
  },
  {
   "cell_type": "code",
   "execution_count": null,
   "id": "71d442ac",
   "metadata": {},
   "outputs": [],
   "source": [
    "model_parameters = [1.2, 1., 1., 1., 15.]\n",
    "initial_vals = [0., 0.]\n",
    "tspan = (0., 50.)\n",
    "\n",
    "\n",
    "prob = ODEProblem(love_model, initial_vals, tspan, model_parameters)"
   ]
  },
  {
   "cell_type": "code",
   "execution_count": null,
   "id": "7b08b186",
   "metadata": {},
   "outputs": [],
   "source": [
    "sol = solve(prob)"
   ]
  },
  {
   "cell_type": "code",
   "execution_count": null,
   "id": "e7ac758e",
   "metadata": {},
   "outputs": [],
   "source": [
    "plot(sol, idxs=(1, 2), linewidth=2, title =\"Lover 2 vs Lover 1 Attraction\", xaxis = \"Lover 1\", yaxis = \"Lover 2\")"
   ]
  },
  {
   "cell_type": "code",
   "execution_count": null,
   "id": "e25a858b",
   "metadata": {},
   "outputs": [],
   "source": []
  },
  {
   "cell_type": "code",
   "execution_count": null,
   "id": "f07b7252",
   "metadata": {},
   "outputs": [],
   "source": []
  }
 ],
 "metadata": {
  "kernelspec": {
   "display_name": "Julia 1.8.5",
   "language": "julia",
   "name": "julia-1.8"
  },
  "language_info": {
   "file_extension": ".jl",
   "mimetype": "application/julia",
   "name": "julia",
   "version": "1.8.5"
  }
 },
 "nbformat": 4,
 "nbformat_minor": 5
}
